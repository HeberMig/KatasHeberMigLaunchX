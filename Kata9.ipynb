{
 "cells": [
  {
   "cell_type": "markdown",
   "metadata": {},
   "source": [
    "Ejercicio: Uso de funciones en Python\n",
    "Ejercicio 1: Trabajar con argumentos en funciones\n",
    "Los argumentos requeridos en las funciones se utilizan cuando las funciones necesitan que esos argumentos funcionen correctamente. En este ejercicio, construirás un informe de combustible que requiere información de varias ubicaciones de combustible en todo el cohete.\n",
    "\n",
    "TIP Dedica unos minutos para tratar de encontrar una solución. Luego desplázate hacia abajo hasta la parte inferior para ver si has logrado compilar el programa de acuerdo con las especificaciones\n",
    "\n",
    "Comienza por crear una función que necesite tres lecturas de combustible y devuelva un informe:"
   ]
  },
  {
   "cell_type": "code",
   "execution_count": null,
   "metadata": {},
   "outputs": [],
   "source": [
    "# Función para leer 3 tanques de combustible y muestre el promedio\n",
    "#Funcion generate_reporte con su args\n",
    "def generate_report(main_tank, external_tank, hydrogen_tank):\n",
    "    #promedio\n",
    "    total_average = (main_tank + external_tank + hydrogen_tank) / 3\n",
    "    return f\"\"\"Fuel Report:\n",
    "    Total Average: {total_average}%\n",
    "    Main tank: {main_tank}%\n",
    "    External tank: {external_tank}%\n",
    "    Hydrogen tank: {hydrogen_tank}% \n",
    "    \"\"\"\n"
   ]
  },
  {
   "cell_type": "code",
   "execution_count": 28,
   "metadata": {},
   "outputs": [
    {
     "name": "stdout",
     "output_type": "stream",
     "text": [
      "Fuel Report:\n",
      "    Total Average: 61.666666666666664%\n",
      "    Main tank: 50%\n",
      "    External tank: 60%\n",
      "    Hydrogen tank: 75% \n",
      "    \n"
     ]
    }
   ],
   "source": [
    "# Llamamos a la función que genera el reporte print(funcion(tanque1, tanque2, tanque3))\n",
    "print(generate_report(50, 60, 75))"
   ]
  },
  {
   "cell_type": "markdown",
   "metadata": {},
   "source": [
    "Mejorar la legibilidad extrayendo el cálculo promedio de la función en una nueva función para que el promedio se pueda hacer de forma independiente."
   ]
  },
  {
   "cell_type": "code",
   "execution_count": 30,
   "metadata": {},
   "outputs": [],
   "source": [
    "def fuel_avarage(values):\n",
    "    total = sum(values)\n",
    "    number_values = len(values)\n",
    "\n",
    "    return total / number_values"
   ]
  },
  {
   "cell_type": "markdown",
   "metadata": {},
   "source": [
    "Actualizar la función promedio"
   ]
  },
  {
   "cell_type": "code",
   "execution_count": 32,
   "metadata": {},
   "outputs": [
    {
     "name": "stdout",
     "output_type": "stream",
     "text": [
      "Fuel Report:\n",
      "    Total Average: 66.66666666666667%\n",
      "    - Main tank: 50%\n",
      "    - External tank: 70%\n",
      "    - Hydrogen tank: 80%\n",
      "    \n"
     ]
    }
   ],
   "source": [
    "def fuel_report2(main_tank, external_tank, hydrogen_tank):\n",
    "    avarage = fuel_avarage([main_tank, external_tank, hydrogen_tank])\n",
    "    \n",
    "    return f\"\"\"Fuel Report:\n",
    "    Total Average: {avarage}%\n",
    "    - Main tank: {main_tank}%\n",
    "    - External tank: {external_tank}%\n",
    "    - Hydrogen tank: {hydrogen_tank}%\n",
    "    \"\"\"\n",
    "\n",
    "print(fuel_report2(50, 70, 80))"
   ]
  },
  {
   "cell_type": "markdown",
   "metadata": {},
   "source": [
    "Ejercicio 2: Trabajar con argumentos de palabras clave en funciones\n",
    "Construir un informe de cohete que requiere varias piezas de información, como el tiempo hasta el destino, el combustible a la izquierda y el nombre del destino.\n",
    "\n",
    "Función con un informe preciso de la misión. Considerar hora de prelanzamiento, tiempo de vuelo, destino, tanque externo y tanque interno"
   ]
  },
  {
   "cell_type": "code",
   "execution_count": 33,
   "metadata": {},
   "outputs": [
    {
     "name": "stdout",
     "output_type": "stream",
     "text": [
      "\n",
      "    Mission destination: Mars\n",
      "    Total travel time: 64\n",
      "    Total fuel left: 416490\n",
      "    \n"
     ]
    }
   ],
   "source": [
    "def report(pre_launch_time, flight_time, destination, external_tank, main_tank):\n",
    "    return f\"\"\"\n",
    "    Mission destination: {destination}\n",
    "    Total travel time: {pre_launch_time + flight_time}\n",
    "    Total fuel left: {external_tank + main_tank}\n",
    "    \"\"\"\n",
    "\n",
    "print(report(19, 45, \"Mars\", 25600, 390890))"
   ]
  },
  {
   "cell_type": "markdown",
   "metadata": {},
   "source": [
    "Hacerlo más flexible permitiendo cualquier número de pasos basados en el tiempo y cualquier número de tanques."
   ]
  },
  {
   "cell_type": "code",
   "execution_count": 34,
   "metadata": {},
   "outputs": [
    {
     "name": "stdout",
     "output_type": "stream",
     "text": [
      "\n",
      "    Mission destination: Mars\n",
      "    Total travel time: 50 minutes\n",
      "    Total fuel left: 411301\n",
      "    \n"
     ]
    }
   ],
   "source": [
    "def report_extended(destination, *minutes, **fuel_reservoirs):\n",
    "    return f\"\"\"\n",
    "    Mission destination: {destination}\n",
    "    Total travel time: {sum(minutes)} minutes\n",
    "    Total fuel left: {sum(fuel_reservoirs.values())}\n",
    "    \"\"\"\n",
    "\n",
    "print(report_extended(\"Mars\", 8, 11, 31, main=21200, external=390101))"
   ]
  },
  {
   "cell_type": "markdown",
   "metadata": {},
   "source": [
    "Actualizar la función para usar el nombre de cada tanque en el informe:"
   ]
  },
  {
   "cell_type": "code",
   "execution_count": 36,
   "metadata": {},
   "outputs": [
    {
     "name": "stdout",
     "output_type": "stream",
     "text": [
      "\n",
      "    Mission destination: Mars\n",
      "    Total travel time: 57 minutes\n",
      "    Total fuel left: 451200\n",
      "    main tank --> 11200 gallons left\n",
      "external tank --> 440000 gallons left\n",
      "\n"
     ]
    }
   ],
   "source": [
    "def report_extended2(destination, *minutes, **fuel_reservoirs):\n",
    "    main_report = f\"\"\"\n",
    "    Mission destination: {destination}\n",
    "    Total travel time: {sum(minutes)} minutes\n",
    "    Total fuel left: {sum(fuel_reservoirs.values())}\n",
    "    \"\"\"\n",
    "    for tank_name, gallons in fuel_reservoirs.items():\n",
    "        main_report += f\"{tank_name} tank --> {gallons} gallons left\\n\"\n",
    "        \n",
    "    return main_report\n",
    "\n",
    "print(report_extended2(\"Mars\", 12, 12, 33, main=11200, external=440000))"
   ]
  }
 ],
 "metadata": {
  "interpreter": {
   "hash": "4bdfc51c617c0a7dc3fdac8de77fb632bcad701fd66996c4bd4de557e21f1d7f"
  },
  "kernelspec": {
   "display_name": "Python 3.10.2 64-bit",
   "language": "python",
   "name": "python3"
  },
  "language_info": {
   "codemirror_mode": {
    "name": "ipython",
    "version": 3
   },
   "file_extension": ".py",
   "mimetype": "text/x-python",
   "name": "python",
   "nbconvert_exporter": "python",
   "pygments_lexer": "ipython3",
   "version": "3.10.2"
  },
  "orig_nbformat": 4
 },
 "nbformat": 4,
 "nbformat_minor": 2
}
