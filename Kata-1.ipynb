{
 "cells": [
  {
   "cell_type": "markdown",
   "metadata": {},
   "source": [
    "Tu primer programa.\n",
    "Fecha Actual:\n",
    "\n",
    "Se muestra la fecha que nos solicitó."
   ]
  },
  {
   "cell_type": "code",
   "execution_count": 1,
   "metadata": {},
   "outputs": [
    {
     "name": "stdout",
     "output_type": "stream",
     "text": [
      "La fecha de hoy es: 2022-02-14\n"
     ]
    }
   ],
   "source": [
    "from datetime import date                           \n",
    "date.today()                                        \n",
    "print(\"La fecha de hoy es: \" + str(date.today()))   "
   ]
  },
  {
   "cell_type": "markdown",
   "metadata": {},
   "source": [
    "Construir un convertidor de Unidades.\n",
    "Se realiza la conversión de Parsecs a Años luz"
   ]
  },
  {
   "cell_type": "code",
   "execution_count": null,
   "metadata": {},
   "outputs": [],
   "source": [
    "parsec = 11\n",
    "lightyears = 3.2615 * parsec\n",
    "\n",
    "print(parsec, ' parsecs, is ', lightyears, 'lightyears')"
   ]
  }
 ],
 "metadata": {
  "interpreter": {
   "hash": "4bdfc51c617c0a7dc3fdac8de77fb632bcad701fd66996c4bd4de557e21f1d7f"
  },
  "kernelspec": {
   "display_name": "Python 3.10.2 64-bit",
   "language": "python",
   "name": "python3"
  },
  "language_info": {
   "codemirror_mode": {
    "name": "ipython",
    "version": 3
   },
   "file_extension": ".py",
   "mimetype": "text/x-python",
   "name": "python",
   "nbconvert_exporter": "python",
   "pygments_lexer": "ipython3",
   "version": "3.10.2"
  },
  "orig_nbformat": 4
 },
 "nbformat": 4,
 "nbformat_minor": 2
}
